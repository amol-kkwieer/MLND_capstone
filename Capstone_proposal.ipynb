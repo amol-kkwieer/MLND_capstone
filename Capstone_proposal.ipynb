{
 "cells": [
  {
   "cell_type": "markdown",
   "metadata": {},
   "source": [
    "# Machine Learning Engineer Nanodegree\n",
    "## Capstone Proposal\n",
    "Jason Carter\n",
    "\n",
    "November X, 2016"
   ]
  },
  {
   "cell_type": "markdown",
   "metadata": {},
   "source": [
    "## Proposal\n",
    "_(approx. 2-3 pages)_\n",
    "\n",
    "### Domain Background\n",
    "_(approx. 1-2 paragraphs)_\n",
    "\n",
    "In this section, provide brief details on the background information of the domain from which the project is proposed. Historical information relevant to the project should be included. It should be clear how or why a problem in the domain can or should be solved. Related academic research should be appropriately cited in this section, including why that research is relevant. Additionally, a discussion of your personal motivation for investigating a particular problem in the domain is encouraged but not required.\n",
    "\n",
    "___\n",
    "\n",
    "*An investment is an asset or item that is purchased with the hope that it will generate income or will appreciate in the future. [...] In finance, an investment is a monetary asset purchased with the idea that the asset will provide income in the future or will be sold at a higher price for a profit.*\n",
    "\n",
    "This proposal will target the finance domain, specifically, the subset of stocks and the stockmarket. Going forward, the definition of investing and trading will be accepted as:\n",
    "\n",
    "- **Investing** is the act of committing money or capital to an endeavor (a business, project, real estate, etc.) with the expectation of obtaining an additional income or profit.\n",
    "\n",
    "- **Trading** is a basic economic concept involving the buying and selling of goods and services, with compensation paid by a buyer to a seller, or the exchange of goods or services between parties. [...] In financial markets, trading refers to the buying and selling of securities, such as the purchase of stock on the floor of the New York Stock Exchange (NYSE).\n",
    "\n",
    "#### The First Stock Market\n",
    "The world’s first stock markets are generally linked back to Antwerp, Belgium as far back as 1531. However, at the time, the markets dealt with only the affairs of government, businesses, and individual debt. \n",
    "\n",
    "On the cusp of imperialism's high point, everyone had a stake in the profits from the East Indies. Explorers sailed there in droves but ships were lost, fortunes were squandered, and financiers realized they had to do something to mitigate the risk. In 1602, the Dutch East India Company officially became the world’s first publically traded company when it released shares of the company on the Amsterdam Stock Exchange. Stocks and bonds were issued to investors and each investor was entitled to a fixed percentage of East India Company’s profits.\n",
    "\n",
    "Today, tens of thousands of companies publically treated on the stockmarkets around the world with milllions of investors ranging from casual individuals and professional day traders to high speed volumne traders and large hedge fund firms.\n",
    "\n",
    "#### Profits\n",
    "Knowing the future or being abit to predict which assets will appreciate or depreciate in value would be advantageous to the owner of said investment. Investment firms, hedge funds and even individuals have been using financial models to better understand market behavior and make profitable investments and trades.\n",
    "\n",
    "Examples, new articles, research papers\n",
    "- roboadvisors \n",
    "- research papers\n",
    "- application of ML in the field\n",
    "\n",
    "#### Personal movitation\n",
    "The world of machine learning can be to many things and on a personal level finance happens to be one of the more interesting areas. Machine learning can not only help to solve complicated financial problems but also can help people grow their personal weathly (directly or indirectly) whom otherwise would not have the opportunity due to current income or society level, whether this be via analysis of their finanical spending and budgeting or having access to \"roboadvisors\" that, debately, can have the same or better investment returns as people who can afford to hire professional hedge fund managers.\n",
    "\n",
    "\n",
    "http://www.investopedia.com/terms/i/investment.asp\n",
    "http://bebusinessed.com/history/history-of-the-stock-market/\n",
    "http://www.investopedia.com/articles/07/stock-exchange-history.asp\n",
    "https://github.com/googledatalab/notebooks/blob/master/samples/TensorFlow%20Machine%20Learning%20with%20Financial%20Data%20on%20Google%20Cloud%20Platform.ipynb\n",
    "https://github.com/rasbt/python-machine-learning-book"
   ]
  },
  {
   "cell_type": "markdown",
   "metadata": {},
   "source": [
    "### Problem Statement\n",
    "_(approx. 1 paragraph)_\n",
    "\n",
    "In this section, clearly describe the problem that is to be solved. The problem described should be well defined and should have at least one relevant potential solution. Additionally, describe the problem thoroughly such that it is clear that the problem is quantifiable (the problem can be expressed in mathematical or logical terms) , measurable (the problem can be measured by some metric and clearly observed), and replicable (the problem can be reproduced and occurs more than once).\n",
    "\n",
    "----\n",
    "\n",
    "Essentially, if you exclude more advanced investing and trading techniques, such as options or x, the main premise is to \"buy low, sell high\". That is, buy your investment at a low price and hope to sell the same investment at price higher then what you bought it for.\n",
    "\n",
    "Problem - how to predict if you buy a stock at price x, that it will be x+y given time t\n",
    "\n",
    "Potential solution - supervised learning model trained on historic data to predict, within a margin of error, the future closing price of a stock. This knowledge would put the owner of said information in an advantageous position, allowing him or her to invest in a company's stock increase or decrease in value.\n",
    "\n",
    "For your core stock predictor, implement:\n",
    "- A training interface that accepts a data range (start_date, end_date) and a list of ticker symbols (e.g. GOOG, AAPL), and builds a model of stock behavior. Your code should read the desired historical prices from the data source of your choice.\n",
    "- A query interface that accepts a list of dates and a list of ticker symbols, and outputs the predicted stock prices for each of those stocks on the given dates. Note that the query dates passed in must be after the training date range, and ticker symbols must be a subset of the ones trained on.\n"
   ]
  },
  {
   "cell_type": "markdown",
   "metadata": {},
   "source": [
    "### Datasets and Inputs\n",
    "_(approx. 2-3 paragraphs)_\n",
    "\n",
    "In this section, the dataset(s) and/or input(s) being considered for the project should be thoroughly described, such as how they relate to the problem and why they should be used. Information such as how the dataset or input is (was) obtained, and the characteristics of the dataset or input, should be included with relevant references and citations as necessary It should be clear how the dataset(s) or input(s) will be used in the project and whether their use is appropriate given the context of the problem.\n",
    "\n",
    "---\n",
    "\n",
    "About the dataset:\n",
    "- The dataset\n",
    "\n",
    "For this project, stock price indicator, the dataset to be used will be that of publicly traded companies from the Nasdaq stockmarket and NYSE (New York Stock Exchange) obtained for free from Yahoo! Finance via Python module \"yahoo-finance\". \n",
    "\n",
    "- Why this dataset is being used (compared to others)\n",
    "\n",
    "Nasdaq and NYSE because of their size, number of companies listed on both exchanges and historic data available for training.\n",
    "\n",
    "- How it relates to the problem\n",
    "\n",
    "In order to predict future stock prices, models would need current and historic data to to determine data behaviour over time or similar characteristics???  \n",
    "\n",
    "- How will the dataset be used\n",
    "\n",
    "Historic stock data will be used for EDA, possibly feature engineering, model training and finally the trained model will be used to predict future stock prices. \n",
    "\n",
    "- Characteristics of the dataset\n",
    "\n",
    "dataset -> header, sample row\n",
    "\n",
    "description of headers - 'YHOO'\n",
    "\n",
    "Name | Value | Description\n",
    "--- | --- | --- \n",
    "Adj_Close | 35.83 | \n",
    "Close | 35.83 | \n",
    "Date | 2014-04-29 | \n",
    "High | 35.89 | \n",
    "Low | 34.12 | \n",
    "Open | 34.37 | \n",
    "Symbol | YHOO | \n",
    "Volume | 28720000 | \n",
    "FullTimeEmployees | 12200 | \n",
    "Industry | Internet Information Providers | \n",
    "Sector | Technology | \n",
    "end | 2014-05-03 | \n",
    "start | 1996-04-12 | \n",
    "symbol | YHOO | \n",
    "\n",
    "- Actual stocks used for EDA and training\n",
    "Apple, Yahoo, IBM, FB, SWIR, ...\n",
    "\n",
    "https://en.wikipedia.org/wiki/NASDAQ\n",
    "https://en.wikipedia.org/wiki/New_York_Stock_Exchange"
   ]
  },
  {
   "cell_type": "markdown",
   "metadata": {},
   "source": [
    "### Solution Statement\n",
    "_(approx. 1 paragraph)_\n",
    "\n",
    "In this section, clearly describe a solution to the problem. The solution should be applicable to the project domain and appropriate for the dataset(s) or input(s) given. Additionally, describe the solution thoroughly such that it is clear that the solution is quantifiable (the solution can be expressed in mathematical or logical terms) , measurable (the solution can be measured by some metric and clearly observed), and replicable (the solution can be reproduced and occurs more than once).\n",
    "\n",
    "??? \n"
   ]
  },
  {
   "cell_type": "markdown",
   "metadata": {},
   "source": [
    "### Benchmark Model\n",
    "_(approximately 1-2 paragraphs)_\n",
    "\n",
    "In this section, provide the details for a benchmark model or result that relates to the domain, problem statement, and intended solution. Ideally, the benchmark model or result contextualizes existing methods or known information in the domain and problem given, which could then be objectively compared to the solution. Describe how the benchmark model or result is measurable (can be measured by some metric and clearly observed) with thorough detail.\n",
    "\n",
    "??? "
   ]
  },
  {
   "cell_type": "markdown",
   "metadata": {},
   "source": [
    "### Evaluation Metrics\n",
    "_(approx. 1-2 paragraphs)_\n",
    "\n",
    "In this section, propose at least one evaluation metric that can be used to quantify the performance of both the benchmark model and the solution model. The evaluation metric(s) you propose should be appropriate given the context of the data, the problem statement, and the intended solution. Describe how the evaluation metric(s) are derived and provide an example of their mathematical representations (if applicable). Complex evaluation metrics should be clearly defined and quantifiable (can be expressed in mathematical or logical terms).\n",
    "\n",
    "???"
   ]
  },
  {
   "cell_type": "markdown",
   "metadata": {},
   "source": [
    "### Project Design\n",
    "_(approx. 1 page)_\n",
    "\n",
    "In this final section, summarize a theoretical workflow for approaching a solution given the problem. Provide thorough discussion for what strategies you may consider employing, what analysis of the data might be required before being used, or which algorithms will be considered for your implementation. The workflow and discussion that you provide should align with the qualities of the previous sections. Additionally, you are encouraged to include small visualizations, pseudocode, or diagrams to aid in describing the project design, but it is not required. The discussion should clearly outline your intended workflow of the capstone project.\n",
    "\n",
    "\n",
    "- workflow gray boxes backend (model) and frontend (ui)\n",
    "- what analysis may be required - EDA chat\n",
    "- which algos you may use\n",
    "- visualization...loop back to gray boxes and workflow"
   ]
  },
  {
   "cell_type": "markdown",
   "metadata": {},
   "source": [
    "-----------\n",
    "\n",
    "**Before submitting your proposal, ask yourself. . .**\n",
    "\n",
    "- Does the proposal you have written follow a well-organized structure similar to that of the project template?\n",
    "- Is each section (particularly **Solution Statement** and **Project Design**) written in a clear, concise and specific fashion? Are there any ambiguous terms or phrases that need clarification?\n",
    "- Would the intended audience of your project be able to understand your proposal?\n",
    "- Have you properly proofread your proposal to assure there are minimal grammatical and spelling mistakes?\n",
    "- Are all the resources used for this project correctly cited and referenced?"
   ]
  }
 ],
 "metadata": {
  "kernelspec": {
   "display_name": "Python 2",
   "language": "python",
   "name": "python2"
  },
  "language_info": {
   "codemirror_mode": {
    "name": "ipython",
    "version": 2
   },
   "file_extension": ".py",
   "mimetype": "text/x-python",
   "name": "python",
   "nbconvert_exporter": "python",
   "pygments_lexer": "ipython2",
   "version": "2.7.11"
  }
 },
 "nbformat": 4,
 "nbformat_minor": 0
}
